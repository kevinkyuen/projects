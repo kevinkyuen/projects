{
  "nbformat": 4,
  "nbformat_minor": 0,
  "metadata": {
    "colab": {
      "provenance": [],
      "include_colab_link": true
    },
    "kernelspec": {
      "name": "python3",
      "display_name": "Python 3"
    },
    "language_info": {
      "name": "python"
    }
  },
  "cells": [
    {
      "cell_type": "markdown",
      "metadata": {
        "id": "view-in-github",
        "colab_type": "text"
      },
      "source": [
        "<a href=\"https://colab.research.google.com/github/kevinkyuen/projects/blob/main/Power_Outages_Logistic_Regression_Model.ipynb\" target=\"_parent\"><img src=\"https://colab.research.google.com/assets/colab-badge.svg\" alt=\"Open In Colab\"/></a>"
      ]
    },
    {
      "cell_type": "markdown",
      "source": [
        "#**Severe Weather Event Prediction: Logistic Regression Model Analysis**\n",
        "\n",
        "#Kevin Yuen\n",
        "\n",
        "\n",
        "\n",
        "\n",
        "\n",
        "---\n",
        "\n",
        "\n",
        "\n",
        "\n",
        "\n",
        "\n",
        "\n"
      ],
      "metadata": {
        "id": "IbgdXmLkSdVv"
      }
    },
    {
      "cell_type": "markdown",
      "source": [
        "#**Objective**:\n",
        "\n",
        "Our goal for this project is to observe past real-world data and gather insights to assist Southern California Edison in predicting severe weather. Our study begins with our dataset, which includes major power outage events in the United States between January 2000 to July 2016. Understanding the risk that severe weather presents to a power grid’s reliability is a quintessential study that SoCal Edison can use to predict and protect their own power grid from severe weather in the future.\n",
        "\n",
        "#**Stakeholder**: SoCal Edision"
      ],
      "metadata": {
        "id": "QXpN8ohTSn46"
      }
    },
    {
      "cell_type": "markdown",
      "source": [
        "#Import Libaries\n",
        "\n",
        "In this step, it is important to import all the necessary libaries for data handling, preprocessing, visuilizaing, and modeling"
      ],
      "metadata": {
        "id": "tzT7NEW2MfUV"
      }
    },
    {
      "cell_type": "code",
      "source": [
        "import pandas as pd\n",
        "from sklearn.preprocessing import StandardScaler\n",
        "import matplotlib.pyplot as plt\n",
        "import seaborn as sns\n",
        "from scipy import stats\n",
        "from sklearn.linear_model import LogisticRegression\n",
        "from sklearn.model_selection import train_test_split\n",
        "from sklearn.metrics import classification_report, confusion_matrix\n",
        "import numpy as np\n",
        "import statsmodels.api as sm\n"
      ],
      "metadata": {
        "id": "xo2-EgRMM-qO"
      },
      "execution_count": null,
      "outputs": []
    },
    {
      "cell_type": "markdown",
      "source": [
        "#Load the Dataset"
      ],
      "metadata": {
        "id": "jqX3pbBONA8X"
      }
    },
    {
      "cell_type": "code",
      "source": [
        "# Load the dataset\n",
        "df = pd.read_csv(\"/content/FINAL_DATA.csv\")\n"
      ],
      "metadata": {
        "id": "TqSu2RHtNGYL"
      },
      "execution_count": null,
      "outputs": []
    },
    {
      "cell_type": "markdown",
      "source": [
        "#Inspect The Data"
      ],
      "metadata": {
        "id": "qbadMNzwNRGO"
      }
    },
    {
      "cell_type": "code",
      "source": [
        "# Print out the first 5 rows of our dataset; this shows all column names that we're dealing with and the first 5 rows\n",
        "df.head()"
      ],
      "metadata": {
        "colab": {
          "base_uri": "https://localhost:8080/",
          "height": 206
        },
        "id": "9q7eDuKtNMHT",
        "outputId": "45537cd5-7cfa-4b31-91c6-95e9a8ee6932"
      },
      "execution_count": null,
      "outputs": [
        {
          "output_type": "execute_result",
          "data": {
            "text/plain": [
              "   month seasons  anomaly_level day_of_week part_of_day  severe_weather  \\\n",
              "0      7  Summer           -0.3      Friday     Evening               1   \n",
              "1      5  Spring           -0.1      Sunday     Evening               0   \n",
              "2     10  Autumn           -1.5     Tuesday     Evening               1   \n",
              "3      6  Summer           -0.1     Tuesday       Night               1   \n",
              "4      7  Summer            1.2    Saturday       Night               1   \n",
              "\n",
              "   outage_duration  residential  commercial  industrial  \n",
              "0             3060      2332915     2114774     2113291  \n",
              "1                1      1586986     1807756     1887927  \n",
              "2             3000      1467293     1801683     1951295  \n",
              "3             2550      1851519     1941174     1993026  \n",
              "4             1740      2028875     2161612     1777937  "
            ],
            "text/html": [
              "\n",
              "  <div id=\"df-c629a20e-a0ec-469a-89d6-8497a7f371ef\" class=\"colab-df-container\">\n",
              "    <div>\n",
              "<style scoped>\n",
              "    .dataframe tbody tr th:only-of-type {\n",
              "        vertical-align: middle;\n",
              "    }\n",
              "\n",
              "    .dataframe tbody tr th {\n",
              "        vertical-align: top;\n",
              "    }\n",
              "\n",
              "    .dataframe thead th {\n",
              "        text-align: right;\n",
              "    }\n",
              "</style>\n",
              "<table border=\"1\" class=\"dataframe\">\n",
              "  <thead>\n",
              "    <tr style=\"text-align: right;\">\n",
              "      <th></th>\n",
              "      <th>month</th>\n",
              "      <th>seasons</th>\n",
              "      <th>anomaly_level</th>\n",
              "      <th>day_of_week</th>\n",
              "      <th>part_of_day</th>\n",
              "      <th>severe_weather</th>\n",
              "      <th>outage_duration</th>\n",
              "      <th>residential</th>\n",
              "      <th>commercial</th>\n",
              "      <th>industrial</th>\n",
              "    </tr>\n",
              "  </thead>\n",
              "  <tbody>\n",
              "    <tr>\n",
              "      <th>0</th>\n",
              "      <td>7</td>\n",
              "      <td>Summer</td>\n",
              "      <td>-0.3</td>\n",
              "      <td>Friday</td>\n",
              "      <td>Evening</td>\n",
              "      <td>1</td>\n",
              "      <td>3060</td>\n",
              "      <td>2332915</td>\n",
              "      <td>2114774</td>\n",
              "      <td>2113291</td>\n",
              "    </tr>\n",
              "    <tr>\n",
              "      <th>1</th>\n",
              "      <td>5</td>\n",
              "      <td>Spring</td>\n",
              "      <td>-0.1</td>\n",
              "      <td>Sunday</td>\n",
              "      <td>Evening</td>\n",
              "      <td>0</td>\n",
              "      <td>1</td>\n",
              "      <td>1586986</td>\n",
              "      <td>1807756</td>\n",
              "      <td>1887927</td>\n",
              "    </tr>\n",
              "    <tr>\n",
              "      <th>2</th>\n",
              "      <td>10</td>\n",
              "      <td>Autumn</td>\n",
              "      <td>-1.5</td>\n",
              "      <td>Tuesday</td>\n",
              "      <td>Evening</td>\n",
              "      <td>1</td>\n",
              "      <td>3000</td>\n",
              "      <td>1467293</td>\n",
              "      <td>1801683</td>\n",
              "      <td>1951295</td>\n",
              "    </tr>\n",
              "    <tr>\n",
              "      <th>3</th>\n",
              "      <td>6</td>\n",
              "      <td>Summer</td>\n",
              "      <td>-0.1</td>\n",
              "      <td>Tuesday</td>\n",
              "      <td>Night</td>\n",
              "      <td>1</td>\n",
              "      <td>2550</td>\n",
              "      <td>1851519</td>\n",
              "      <td>1941174</td>\n",
              "      <td>1993026</td>\n",
              "    </tr>\n",
              "    <tr>\n",
              "      <th>4</th>\n",
              "      <td>7</td>\n",
              "      <td>Summer</td>\n",
              "      <td>1.2</td>\n",
              "      <td>Saturday</td>\n",
              "      <td>Night</td>\n",
              "      <td>1</td>\n",
              "      <td>1740</td>\n",
              "      <td>2028875</td>\n",
              "      <td>2161612</td>\n",
              "      <td>1777937</td>\n",
              "    </tr>\n",
              "  </tbody>\n",
              "</table>\n",
              "</div>\n",
              "    <div class=\"colab-df-buttons\">\n",
              "\n",
              "  <div class=\"colab-df-container\">\n",
              "    <button class=\"colab-df-convert\" onclick=\"convertToInteractive('df-c629a20e-a0ec-469a-89d6-8497a7f371ef')\"\n",
              "            title=\"Convert this dataframe to an interactive table.\"\n",
              "            style=\"display:none;\">\n",
              "\n",
              "  <svg xmlns=\"http://www.w3.org/2000/svg\" height=\"24px\" viewBox=\"0 -960 960 960\">\n",
              "    <path d=\"M120-120v-720h720v720H120Zm60-500h600v-160H180v160Zm220 220h160v-160H400v160Zm0 220h160v-160H400v160ZM180-400h160v-160H180v160Zm440 0h160v-160H620v160ZM180-180h160v-160H180v160Zm440 0h160v-160H620v160Z\"/>\n",
              "  </svg>\n",
              "    </button>\n",
              "\n",
              "  <style>\n",
              "    .colab-df-container {\n",
              "      display:flex;\n",
              "      gap: 12px;\n",
              "    }\n",
              "\n",
              "    .colab-df-convert {\n",
              "      background-color: #E8F0FE;\n",
              "      border: none;\n",
              "      border-radius: 50%;\n",
              "      cursor: pointer;\n",
              "      display: none;\n",
              "      fill: #1967D2;\n",
              "      height: 32px;\n",
              "      padding: 0 0 0 0;\n",
              "      width: 32px;\n",
              "    }\n",
              "\n",
              "    .colab-df-convert:hover {\n",
              "      background-color: #E2EBFA;\n",
              "      box-shadow: 0px 1px 2px rgba(60, 64, 67, 0.3), 0px 1px 3px 1px rgba(60, 64, 67, 0.15);\n",
              "      fill: #174EA6;\n",
              "    }\n",
              "\n",
              "    .colab-df-buttons div {\n",
              "      margin-bottom: 4px;\n",
              "    }\n",
              "\n",
              "    [theme=dark] .colab-df-convert {\n",
              "      background-color: #3B4455;\n",
              "      fill: #D2E3FC;\n",
              "    }\n",
              "\n",
              "    [theme=dark] .colab-df-convert:hover {\n",
              "      background-color: #434B5C;\n",
              "      box-shadow: 0px 1px 3px 1px rgba(0, 0, 0, 0.15);\n",
              "      filter: drop-shadow(0px 1px 2px rgba(0, 0, 0, 0.3));\n",
              "      fill: #FFFFFF;\n",
              "    }\n",
              "  </style>\n",
              "\n",
              "    <script>\n",
              "      const buttonEl =\n",
              "        document.querySelector('#df-c629a20e-a0ec-469a-89d6-8497a7f371ef button.colab-df-convert');\n",
              "      buttonEl.style.display =\n",
              "        google.colab.kernel.accessAllowed ? 'block' : 'none';\n",
              "\n",
              "      async function convertToInteractive(key) {\n",
              "        const element = document.querySelector('#df-c629a20e-a0ec-469a-89d6-8497a7f371ef');\n",
              "        const dataTable =\n",
              "          await google.colab.kernel.invokeFunction('convertToInteractive',\n",
              "                                                    [key], {});\n",
              "        if (!dataTable) return;\n",
              "\n",
              "        const docLinkHtml = 'Like what you see? Visit the ' +\n",
              "          '<a target=\"_blank\" href=https://colab.research.google.com/notebooks/data_table.ipynb>data table notebook</a>'\n",
              "          + ' to learn more about interactive tables.';\n",
              "        element.innerHTML = '';\n",
              "        dataTable['output_type'] = 'display_data';\n",
              "        await google.colab.output.renderOutput(dataTable, element);\n",
              "        const docLink = document.createElement('div');\n",
              "        docLink.innerHTML = docLinkHtml;\n",
              "        element.appendChild(docLink);\n",
              "      }\n",
              "    </script>\n",
              "  </div>\n",
              "\n",
              "\n",
              "<div id=\"df-7a068346-edde-47ae-adb5-8fb54d22fa9a\">\n",
              "  <button class=\"colab-df-quickchart\" onclick=\"quickchart('df-7a068346-edde-47ae-adb5-8fb54d22fa9a')\"\n",
              "            title=\"Suggest charts\"\n",
              "            style=\"display:none;\">\n",
              "\n",
              "<svg xmlns=\"http://www.w3.org/2000/svg\" height=\"24px\"viewBox=\"0 0 24 24\"\n",
              "     width=\"24px\">\n",
              "    <g>\n",
              "        <path d=\"M19 3H5c-1.1 0-2 .9-2 2v14c0 1.1.9 2 2 2h14c1.1 0 2-.9 2-2V5c0-1.1-.9-2-2-2zM9 17H7v-7h2v7zm4 0h-2V7h2v10zm4 0h-2v-4h2v4z\"/>\n",
              "    </g>\n",
              "</svg>\n",
              "  </button>\n",
              "\n",
              "<style>\n",
              "  .colab-df-quickchart {\n",
              "      --bg-color: #E8F0FE;\n",
              "      --fill-color: #1967D2;\n",
              "      --hover-bg-color: #E2EBFA;\n",
              "      --hover-fill-color: #174EA6;\n",
              "      --disabled-fill-color: #AAA;\n",
              "      --disabled-bg-color: #DDD;\n",
              "  }\n",
              "\n",
              "  [theme=dark] .colab-df-quickchart {\n",
              "      --bg-color: #3B4455;\n",
              "      --fill-color: #D2E3FC;\n",
              "      --hover-bg-color: #434B5C;\n",
              "      --hover-fill-color: #FFFFFF;\n",
              "      --disabled-bg-color: #3B4455;\n",
              "      --disabled-fill-color: #666;\n",
              "  }\n",
              "\n",
              "  .colab-df-quickchart {\n",
              "    background-color: var(--bg-color);\n",
              "    border: none;\n",
              "    border-radius: 50%;\n",
              "    cursor: pointer;\n",
              "    display: none;\n",
              "    fill: var(--fill-color);\n",
              "    height: 32px;\n",
              "    padding: 0;\n",
              "    width: 32px;\n",
              "  }\n",
              "\n",
              "  .colab-df-quickchart:hover {\n",
              "    background-color: var(--hover-bg-color);\n",
              "    box-shadow: 0 1px 2px rgba(60, 64, 67, 0.3), 0 1px 3px 1px rgba(60, 64, 67, 0.15);\n",
              "    fill: var(--button-hover-fill-color);\n",
              "  }\n",
              "\n",
              "  .colab-df-quickchart-complete:disabled,\n",
              "  .colab-df-quickchart-complete:disabled:hover {\n",
              "    background-color: var(--disabled-bg-color);\n",
              "    fill: var(--disabled-fill-color);\n",
              "    box-shadow: none;\n",
              "  }\n",
              "\n",
              "  .colab-df-spinner {\n",
              "    border: 2px solid var(--fill-color);\n",
              "    border-color: transparent;\n",
              "    border-bottom-color: var(--fill-color);\n",
              "    animation:\n",
              "      spin 1s steps(1) infinite;\n",
              "  }\n",
              "\n",
              "  @keyframes spin {\n",
              "    0% {\n",
              "      border-color: transparent;\n",
              "      border-bottom-color: var(--fill-color);\n",
              "      border-left-color: var(--fill-color);\n",
              "    }\n",
              "    20% {\n",
              "      border-color: transparent;\n",
              "      border-left-color: var(--fill-color);\n",
              "      border-top-color: var(--fill-color);\n",
              "    }\n",
              "    30% {\n",
              "      border-color: transparent;\n",
              "      border-left-color: var(--fill-color);\n",
              "      border-top-color: var(--fill-color);\n",
              "      border-right-color: var(--fill-color);\n",
              "    }\n",
              "    40% {\n",
              "      border-color: transparent;\n",
              "      border-right-color: var(--fill-color);\n",
              "      border-top-color: var(--fill-color);\n",
              "    }\n",
              "    60% {\n",
              "      border-color: transparent;\n",
              "      border-right-color: var(--fill-color);\n",
              "    }\n",
              "    80% {\n",
              "      border-color: transparent;\n",
              "      border-right-color: var(--fill-color);\n",
              "      border-bottom-color: var(--fill-color);\n",
              "    }\n",
              "    90% {\n",
              "      border-color: transparent;\n",
              "      border-bottom-color: var(--fill-color);\n",
              "    }\n",
              "  }\n",
              "</style>\n",
              "\n",
              "  <script>\n",
              "    async function quickchart(key) {\n",
              "      const quickchartButtonEl =\n",
              "        document.querySelector('#' + key + ' button');\n",
              "      quickchartButtonEl.disabled = true;  // To prevent multiple clicks.\n",
              "      quickchartButtonEl.classList.add('colab-df-spinner');\n",
              "      try {\n",
              "        const charts = await google.colab.kernel.invokeFunction(\n",
              "            'suggestCharts', [key], {});\n",
              "      } catch (error) {\n",
              "        console.error('Error during call to suggestCharts:', error);\n",
              "      }\n",
              "      quickchartButtonEl.classList.remove('colab-df-spinner');\n",
              "      quickchartButtonEl.classList.add('colab-df-quickchart-complete');\n",
              "    }\n",
              "    (() => {\n",
              "      let quickchartButtonEl =\n",
              "        document.querySelector('#df-7a068346-edde-47ae-adb5-8fb54d22fa9a button');\n",
              "      quickchartButtonEl.style.display =\n",
              "        google.colab.kernel.accessAllowed ? 'block' : 'none';\n",
              "    })();\n",
              "  </script>\n",
              "</div>\n",
              "\n",
              "    </div>\n",
              "  </div>\n"
            ],
            "application/vnd.google.colaboratory.intrinsic+json": {
              "type": "dataframe",
              "variable_name": "df",
              "summary": "{\n  \"name\": \"df\",\n  \"rows\": 1463,\n  \"fields\": [\n    {\n      \"column\": \"month\",\n      \"properties\": {\n        \"dtype\": \"number\",\n        \"std\": 3,\n        \"min\": 1,\n        \"max\": 12,\n        \"num_unique_values\": 12,\n        \"samples\": [\n          1,\n          2,\n          7\n        ],\n        \"semantic_type\": \"\",\n        \"description\": \"\"\n      }\n    },\n    {\n      \"column\": \"seasons\",\n      \"properties\": {\n        \"dtype\": \"category\",\n        \"num_unique_values\": 4,\n        \"samples\": [\n          \"Spring\",\n          \"Winter\",\n          \"Summer\"\n        ],\n        \"semantic_type\": \"\",\n        \"description\": \"\"\n      }\n    },\n    {\n      \"column\": \"anomaly_level\",\n      \"properties\": {\n        \"dtype\": \"number\",\n        \"std\": 0.7152411322841489,\n        \"min\": -1.6,\n        \"max\": 2.3,\n        \"num_unique_values\": 36,\n        \"samples\": [\n          -1.6,\n          -0.5,\n          1.3\n        ],\n        \"semantic_type\": \"\",\n        \"description\": \"\"\n      }\n    },\n    {\n      \"column\": \"day_of_week\",\n      \"properties\": {\n        \"dtype\": \"category\",\n        \"num_unique_values\": 7,\n        \"samples\": [\n          \"Friday\",\n          \"Sunday\",\n          \"Monday\"\n        ],\n        \"semantic_type\": \"\",\n        \"description\": \"\"\n      }\n    },\n    {\n      \"column\": \"part_of_day\",\n      \"properties\": {\n        \"dtype\": \"category\",\n        \"num_unique_values\": 4,\n        \"samples\": [\n          \"Night\",\n          \"Morning\",\n          \"Evening\"\n        ],\n        \"semantic_type\": \"\",\n        \"description\": \"\"\n      }\n    },\n    {\n      \"column\": \"severe_weather\",\n      \"properties\": {\n        \"dtype\": \"number\",\n        \"std\": 0,\n        \"min\": 0,\n        \"max\": 1,\n        \"num_unique_values\": 2,\n        \"samples\": [\n          0,\n          1\n        ],\n        \"semantic_type\": \"\",\n        \"description\": \"\"\n      }\n    },\n    {\n      \"column\": \"outage_duration\",\n      \"properties\": {\n        \"dtype\": \"number\",\n        \"std\": 5965,\n        \"min\": 0,\n        \"max\": 108653,\n        \"num_unique_values\": 847,\n        \"samples\": [\n          11420,\n          2\n        ],\n        \"semantic_type\": \"\",\n        \"description\": \"\"\n      }\n    },\n    {\n      \"column\": \"residential\",\n      \"properties\": {\n        \"dtype\": \"number\",\n        \"std\": 3388288,\n        \"min\": 144417,\n        \"max\": 18620657,\n        \"num_unique_values\": 958,\n        \"samples\": [\n          4411836,\n          2305453\n        ],\n        \"semantic_type\": \"\",\n        \"description\": \"\"\n      }\n    },\n    {\n      \"column\": \"commercial\",\n      \"properties\": {\n        \"dtype\": \"number\",\n        \"std\": 3487846,\n        \"min\": 152517,\n        \"max\": 14046972,\n        \"num_unique_values\": 958,\n        \"samples\": [\n          3168502,\n          3317253\n        ],\n        \"semantic_type\": \"\",\n        \"description\": \"\"\n      }\n    },\n    {\n      \"column\": \"industrial\",\n      \"properties\": {\n        \"dtype\": \"number\",\n        \"std\": 2207356,\n        \"min\": 15521,\n        \"max\": 9588951,\n        \"num_unique_values\": 959,\n        \"samples\": [\n          112269,\n          608105\n        ],\n        \"semantic_type\": \"\",\n        \"description\": \"\"\n      }\n    }\n  ]\n}"
            }
          },
          "metadata": {},
          "execution_count": 11
        }
      ]
    },
    {
      "cell_type": "code",
      "source": [
        "# Check to see column type, counts, and datatypes\n",
        "df.info()"
      ],
      "metadata": {
        "colab": {
          "base_uri": "https://localhost:8080/"
        },
        "id": "cverZR_iNPCN",
        "outputId": "3908c6af-be8a-42ad-dc8c-798265a419a4"
      },
      "execution_count": null,
      "outputs": [
        {
          "output_type": "stream",
          "name": "stdout",
          "text": [
            "<class 'pandas.core.frame.DataFrame'>\n",
            "RangeIndex: 1463 entries, 0 to 1462\n",
            "Data columns (total 10 columns):\n",
            " #   Column           Non-Null Count  Dtype  \n",
            "---  ------           --------------  -----  \n",
            " 0   month            1463 non-null   int64  \n",
            " 1   seasons          1463 non-null   object \n",
            " 2   anomaly_level    1463 non-null   float64\n",
            " 3   day_of_week      1463 non-null   object \n",
            " 4   part_of_day      1463 non-null   object \n",
            " 5   severe_weather   1463 non-null   int64  \n",
            " 6   outage_duration  1463 non-null   int64  \n",
            " 7   residential      1463 non-null   int64  \n",
            " 8   commercial       1463 non-null   int64  \n",
            " 9   industrial       1463 non-null   int64  \n",
            "dtypes: float64(1), int64(6), object(3)\n",
            "memory usage: 114.4+ KB\n"
          ]
        }
      ]
    },
    {
      "cell_type": "code",
      "source": [
        "# Check for the count of rows and columns\n",
        "df.shape"
      ],
      "metadata": {
        "colab": {
          "base_uri": "https://localhost:8080/"
        },
        "id": "y0rvSTCyODBk",
        "outputId": "6907bab8-9068-4e24-8456-a2f30cb0abf6"
      },
      "execution_count": null,
      "outputs": [
        {
          "output_type": "execute_result",
          "data": {
            "text/plain": [
              "(1463, 10)"
            ]
          },
          "metadata": {},
          "execution_count": 13
        }
      ]
    },
    {
      "cell_type": "markdown",
      "source": [
        "Dataset has 1463 rows and 10 coulmns"
      ],
      "metadata": {
        "id": "lh6JPdIlOGat"
      }
    },
    {
      "cell_type": "markdown",
      "source": [
        "# Data Preprocessing\n",
        "\n",
        "Logistic regression models, like the one we will create for our dataset, are heavily reilaint on the data that they are given to train on. Thus, we need to ensure that the data that is being given to these models can are within a certain range of usability, whether it be that there are no duplicates, null values, outliers, or higher-level linkages between values, such as multicolinearlity (the direct relationship between two dataset columns that can impact the way an LR model predicts and understands the information given).\n",
        "\n",
        "In the following steps, we will go over several data preprocessing steps to increase the accuracy and predictability of our logistic regression model."
      ],
      "metadata": {
        "id": "rJSyNMofFOk_"
      }
    },
    {
      "cell_type": "markdown",
      "source": [
        "#Check for Missing Values"
      ],
      "metadata": {
        "id": "CaLdZzO6Nm2J"
      }
    },
    {
      "cell_type": "code",
      "source": [
        "# Scans through the rows of the dataset to check for nulls\n",
        "df.isna().sum()"
      ],
      "metadata": {
        "colab": {
          "base_uri": "https://localhost:8080/"
        },
        "id": "UJBCAxYYNpm4",
        "outputId": "8f4bd40d-5361-4dd0-81f1-27fd8fbf4e6f"
      },
      "execution_count": null,
      "outputs": [
        {
          "output_type": "execute_result",
          "data": {
            "text/plain": [
              "month              0\n",
              "seasons            0\n",
              "anomaly_level      0\n",
              "day_of_week        0\n",
              "part_of_day        0\n",
              "severe_weather     0\n",
              "outage_duration    0\n",
              "residential        0\n",
              "commercial         0\n",
              "industrial         0\n",
              "dtype: int64"
            ]
          },
          "metadata": {},
          "execution_count": 14
        }
      ]
    },
    {
      "cell_type": "markdown",
      "source": [
        "We found no null values, meaning no values need to be dropped from our dataset"
      ],
      "metadata": {
        "id": "dqU_Ph_9Ns-s"
      }
    },
    {
      "cell_type": "markdown",
      "source": [
        "#Check For Outliers\n",
        "\n"
      ],
      "metadata": {
        "id": "zbgjEP75NwwP"
      }
    },
    {
      "cell_type": "markdown",
      "source": [
        "Outliers pose a great threat to machine learning algorithms. Because they operate solely on the knowledge gained from the data its fed, data that skews it too far in either direction (too large or too small) can make the model less effective in predicting values. Some of the ways these models can be affected by outliers include distorted data distribution, overfitting, increased training time, and reduced model effectiveness."
      ],
      "metadata": {
        "id": "o9JvmXrLoUNm"
      }
    },
    {
      "cell_type": "code",
      "source": [
        "# Calculate the Z-scores for each column in the dataset\n",
        "# Gets numerical columns from df, calculates each column's z-score, then stores them in variable \"z_scores\" to use later\n",
        "z_scores = stats.zscore(df.select_dtypes(include=[float, int]))"
      ],
      "metadata": {
        "id": "DtSGkt_lNyyY"
      },
      "execution_count": null,
      "outputs": []
    },
    {
      "cell_type": "code",
      "source": [
        "# Set a threshold for identifying outliers, which in our case is three standard deviations from the mean\n",
        "threshold = 3"
      ],
      "metadata": {
        "id": "rRyTGN6DOaz5"
      },
      "execution_count": null,
      "outputs": []
    },
    {
      "cell_type": "code",
      "source": [
        "# Find the absolute Z-scores that are greater than the threshold\n",
        "# Creates a new variable \"outliers\" that checks to see if our values from \"z_scores\" is outside our \"threshhold\" of three standard deviations\n",
        "outliers = (np.abs(z_scores) > threshold)"
      ],
      "metadata": {
        "id": "FNQjhwrROcY6"
      },
      "execution_count": null,
      "outputs": []
    },
    {
      "cell_type": "code",
      "source": [
        "# Print the number of outliers in each column\n",
        "print(\"Number of outliers in each column:\")\n",
        "print(np.sum(outliers, axis=0))"
      ],
      "metadata": {
        "colab": {
          "base_uri": "https://localhost:8080/"
        },
        "id": "y3NoteC2OeL7",
        "outputId": "a57f51a6-fc77-4a36-df50-b1cedf37fca2"
      },
      "execution_count": null,
      "outputs": [
        {
          "output_type": "stream",
          "name": "stdout",
          "text": [
            "Number of outliers in each column:\n",
            "month               0\n",
            "anomaly_level      23\n",
            "severe_weather      0\n",
            "outage_duration    20\n",
            "residential        28\n",
            "commercial          0\n",
            "industrial          8\n",
            "dtype: int64\n"
          ]
        }
      ]
    },
    {
      "cell_type": "markdown",
      "source": [
        "Four of the columns from our dataset contain values that are *at least* `three standard deviations` away from the mean; these values can be found in 'anomaly_level', 'outage_duration', 'residential', and 'industrial.'\n",
        "\n",
        "We will remove these in the following step."
      ],
      "metadata": {
        "id": "ouXL-HiQnLwZ"
      }
    },
    {
      "cell_type": "markdown",
      "source": [
        "#Remove Outliers"
      ],
      "metadata": {
        "id": "UnX30OPcOp3c"
      }
    },
    {
      "cell_type": "markdown",
      "source": [
        "As previously mentioned, we need to remove the outliers in the four columns that contain outliers. Because of this, we use the `stats` library once again check for z-scores are greater than three. If this is the case, they are removed from our dataset."
      ],
      "metadata": {
        "id": "DuQgdEXFoAaB"
      }
    },
    {
      "cell_type": "code",
      "source": [
        "# Remove rows with outliers in 'anomaly_level', 'outage_duration', 'residential', and 'industrial'\n",
        "# Uses our previously created dataframe df, checks whether or not the z-scores are over\n",
        "df = df[(np.abs(stats.zscore(df['anomaly_level'])) < 3) &\n",
        "        (np.abs(stats.zscore(df['outage_duration'])) < 3) &\n",
        "        (np.abs(stats.zscore(df['residential'])) < 3) &\n",
        "        (np.abs(stats.zscore(df['industrial'])) < 3)]\n"
      ],
      "metadata": {
        "id": "igQxVQnIOsHD"
      },
      "execution_count": null,
      "outputs": []
    },
    {
      "cell_type": "code",
      "source": [
        "df.shape"
      ],
      "metadata": {
        "colab": {
          "base_uri": "https://localhost:8080/"
        },
        "id": "ghqYXFG-PHdf",
        "outputId": "df2c2046-f99d-4f1b-e55c-9f343327bafb"
      },
      "execution_count": null,
      "outputs": [
        {
          "output_type": "execute_result",
          "data": {
            "text/plain": [
              "(1389, 10)"
            ]
          },
          "metadata": {},
          "execution_count": 21
        }
      ]
    },
    {
      "cell_type": "markdown",
      "source": [
        "After removing the outliers, the dataset now has 1389 rows and 10 columns."
      ],
      "metadata": {
        "id": "t2CSrp5qPHIh"
      }
    },
    {
      "cell_type": "markdown",
      "source": [
        "#Scaling Numerical Features\n",
        "\n",
        "As we continue preprocessing our data, we move onto `scaling` to make our model's values more coherent and linear for the model to understand. This takes place through the use of `Standard Scaler`, a technique that is used to change values from their column-dependent values to ones values that are specific values away from the standard deviation.\n",
        "\n",
        "This allows the model to process the weight of certain values away from their given mean, something similar to \"leveling the playing field\" for each column in the dataset."
      ],
      "metadata": {
        "id": "lnx_RtEhPNf6"
      }
    },
    {
      "cell_type": "code",
      "source": [
        "# Initialize the StandardScaler\n",
        "scaler = StandardScaler()\n",
        "\n",
        "# List of columns to scale, all numerical values. We will use categorical variables in a later step\n",
        "columns_to_scale = ['month', 'anomaly_level', 'outage_duration', 'residential', 'commercial', 'industrial']\n",
        "\n",
        "# Scale the numerical columns; changes the values in the columns to the previously mentioned \"distance away from the standard deviation\"\n",
        "df[columns_to_scale] = scaler.fit_transform(df[columns_to_scale])\n",
        "\n",
        "# Display the first few rows after scaling\n",
        "print(df.head())\n"
      ],
      "metadata": {
        "colab": {
          "base_uri": "https://localhost:8080/"
        },
        "id": "BYgtEsvXPjlg",
        "outputId": "f0160d32-f840-4d2f-f2bc-9f2829ec18df"
      },
      "execution_count": null,
      "outputs": [
        {
          "output_type": "stream",
          "name": "stdout",
          "text": [
            "      month seasons  anomaly_level day_of_week part_of_day  severe_weather  \\\n",
            "0  0.229985  Summer      -0.216677      Friday     Evening               1   \n",
            "1 -0.375606  Spring       0.089026      Sunday     Evening               0   \n",
            "2  1.138371  Autumn      -2.050890     Tuesday     Evening               1   \n",
            "3 -0.072810  Summer       0.089026     Tuesday       Night               1   \n",
            "4  0.229985  Summer       2.076090    Saturday       Night               1   \n",
            "\n",
            "   outage_duration  residential  commercial  industrial  \n",
            "0         0.265426    -0.598950   -0.641745   -0.266218  \n",
            "1        -0.642642    -0.852427   -0.734427   -0.377502  \n",
            "2         0.247615    -0.893100   -0.736260   -0.346211  \n",
            "3         0.114032    -0.762535   -0.694151   -0.325605  \n",
            "4        -0.126417    -0.702267   -0.627606   -0.431815  \n"
          ]
        }
      ]
    },
    {
      "cell_type": "markdown",
      "source": [
        "#Correlation Matrix\n",
        "\n",
        "Also known as a \"heatmap,\" a correlation matrix shows the relationship between numerical values (categorical variables cannnot be passed through).\n",
        "\n",
        "With a correlation matrix, we can find and look for columns in our dataset that are directly correlated; if two columns are linked together (in that both are either directly or indirectly correlated to each other), the model being built will have trouble predicting future values.\n",
        "\n",
        "- **+1:** Indicates a perfect positive correlation, meaning as one variable increases, the other increases proportionally.\n",
        "- **-1:** Indicates a perfect negative correlation, meaning as one variable increases, the other decreases proportionally.\n",
        "- **0:** Represents no linear correlation, implying the changes in one variable don't influence the other in a predictable way.\n",
        "- **Values between -1 and +1:** Reflect varying degrees of positive or negative correlation. The closer the value is to 1 (positive) or -1 (negative), the stronger the linear relationship."
      ],
      "metadata": {
        "id": "f3FZAhiiPpJs"
      }
    },
    {
      "cell_type": "code",
      "source": [
        "# Define the columns to include in the correlation matrix\n",
        "columns_for_correlation = [\n",
        "    'month', 'anomaly_level', 'severe_weather', 'outage_duration',\n",
        "    'residential', 'commercial', 'industrial'\n",
        "]"
      ],
      "metadata": {
        "id": "y5rQqz11Psp0"
      },
      "execution_count": null,
      "outputs": []
    },
    {
      "cell_type": "code",
      "source": [
        "# Calculate the correlation matrix\n",
        "correlation_matrix = df[columns_for_correlation].corr()\n",
        "\n",
        "# Plot the heatmap for the correlation matrix\n",
        "plt.figure(figsize=(10, 8))\n",
        "sns.heatmap(correlation_matrix, annot=True, fmt=\".2f\", cmap=\"coolwarm\", linewidths=0.5)\n",
        "plt.title('Correlation Matrix')\n",
        "plt.show()"
      ],
      "metadata": {
        "colab": {
          "base_uri": "https://localhost:8080/",
          "height": 799
        },
        "id": "HtQ-6zBbPuZA",
        "outputId": "c7886dbe-c8e4-4d5f-c2e2-ea43aec4b8a0"
      },
      "execution_count": null,
      "outputs": [
        {
          "output_type": "display_data",
          "data": {
            "text/plain": [
              "<Figure size 1000x800 with 2 Axes>"
            ],
            "image/png": "[encoded data removed]"
          },
          "metadata": {}
        }
      ]
    },
    {
      "cell_type": "markdown",
      "source": [
        "#Create Dummy Variables\n",
        "\n",
        "In this step, we change all the categorical variables that cannot be placed on a scale into variabels that can be used for our regression model. the `get_dummies` function changes the categorical values into \"1\" or \"0\" for the entire column; with each newly created column, see each occurance replaced with a 1 and every other value replaced with a 0.\n",
        "\n",
        "For example, a column that contains only names of season names would be split into four: the created columns would appear as \"seasons_(Spring/Summer/Winter)\".\n",
        "\n",
        "In the scenario listed above, the column \"seasons_Autumn\" is missing; in fact, one of the columns for each of our categorical variables is removed in each of the exmaples to avoid `perfect multicolinearity`. This makes it so that our model can better identify independent variables that are statistically significant to our dataset.\n",
        "\n"
      ],
      "metadata": {
        "id": "Za8YNLizPyng"
      }
    },
    {
      "cell_type": "code",
      "source": [
        "# Convert categorical variables to dummy variables\n",
        "df_with_dummies = pd.get_dummies(df, columns=['seasons', 'day_of_week', 'part_of_day'], drop_first=True)\n",
        "\n",
        "# Display the first few rows of the new dataframe with dummy variables\n",
        "print(df_with_dummies.head())\n"
      ],
      "metadata": {
        "colab": {
          "base_uri": "https://localhost:8080/"
        },
        "id": "C2yUKaUUP2BQ",
        "outputId": "0e21d131-b6ae-46e3-8543-ab934ccffbe1"
      },
      "execution_count": null,
      "outputs": [
        {
          "output_type": "stream",
          "name": "stdout",
          "text": [
            "      month  anomaly_level  severe_weather  outage_duration  residential  \\\n",
            "0  0.229985      -0.216677               1         0.265426    -0.598950   \n",
            "1 -0.375606       0.089026               0        -0.642642    -0.852427   \n",
            "2  1.138371      -2.050890               1         0.247615    -0.893100   \n",
            "3 -0.072810       0.089026               1         0.114032    -0.762535   \n",
            "4  0.229985       2.076090               1        -0.126417    -0.702267   \n",
            "\n",
            "   commercial  industrial  seasons_Spring  seasons_Summer  seasons_Winter  \\\n",
            "0   -0.641745   -0.266218               0               1               0   \n",
            "1   -0.734427   -0.377502               1               0               0   \n",
            "2   -0.736260   -0.346211               0               0               0   \n",
            "3   -0.694151   -0.325605               0               1               0   \n",
            "4   -0.627606   -0.431815               0               1               0   \n",
            "\n",
            "   day_of_week_Monday  day_of_week_Saturday  day_of_week_Sunday  \\\n",
            "0                   0                     0                   0   \n",
            "1                   0                     0                   1   \n",
            "2                   0                     0                   0   \n",
            "3                   0                     0                   0   \n",
            "4                   0                     1                   0   \n",
            "\n",
            "   day_of_week_Thursday  day_of_week_Tuesday  day_of_week_Wednesday  \\\n",
            "0                     0                    0                      0   \n",
            "1                     0                    0                      0   \n",
            "2                     0                    1                      0   \n",
            "3                     0                    1                      0   \n",
            "4                     0                    0                      0   \n",
            "\n",
            "   part_of_day_Evening  part_of_day_Morning  part_of_day_Night  \n",
            "0                    1                    0                  0  \n",
            "1                    1                    0                  0  \n",
            "2                    1                    0                  0  \n",
            "3                    0                    0                  1  \n",
            "4                    0                    0                  1  \n"
          ]
        }
      ]
    },
    {
      "cell_type": "markdown",
      "source": [
        "#Splitting the Dataset\n",
        "\n",
        "Splitting the dataset is a quintessential part of making a model. We want to ensure that the model actually performs properly with the data it's given **and** with new data, so we divide the dataset into `training` and `testing` sets. The training set is what the model uses to learn from and generate predictions, whereas the testing set is used to confirm whether or not those predictions generated from the training set are accurate.\n",
        "\n",
        "In the code below, we split the dataset by giving the testing set 40% of the data, leaving the rest of the 60% to the training set.\n"
      ],
      "metadata": {
        "id": "KmdjpAF4P8Vs"
      }
    },
    {
      "cell_type": "code",
      "source": [
        "# Define the target variable 'y' and the features 'X'\n",
        "y = df_with_dummies['severe_weather'] # gets the column 'severe weather' from dataframe \"df_with_dummies\" and assigns it the dataframe y. This will be our target variable we use for predictions\n",
        "X = df_with_dummies.drop(['severe_weather'], axis=1) # With a similar layout as the function above, this creates a new dataframe X, but removes ONLY the column 'severe_weather' to better isolate our target variable\n",
        "\n",
        "# Split the dataset into training and testing sets\n",
        "train_X, test_X, train_y, test_y = train_test_split(X, y, test_size=0.4, random_state=1)\n",
        "\n",
        "# Display the shape of the training and testing sets\n",
        "print(\"Training set shape:\", train_X.shape)\n",
        "print(\"Testing set shape:\", test_X.shape)\n"
      ],
      "metadata": {
        "colab": {
          "base_uri": "https://localhost:8080/"
        },
        "id": "8j0IVH8XQAEk",
        "outputId": "0ac973c7-bd2b-4817-ca0e-2be25254490e"
      },
      "execution_count": null,
      "outputs": [
        {
          "output_type": "stream",
          "name": "stdout",
          "text": [
            "Training set shape: (833, 18)\n",
            "Testing set shape: (556, 18)\n"
          ]
        }
      ]
    },
    {
      "cell_type": "markdown",
      "source": [
        "#Building and Training the Logistic Regression Model\n",
        "\n",
        "Create and train a logistic regression model using the training data.\n",
        "\n"
      ],
      "metadata": {
        "id": "f3xeBLSOQC1f"
      }
    },
    {
      "cell_type": "code",
      "source": [
        "# Initialize the logistic regression model\n",
        "logit_reg = LogisticRegression(penalty='l2', C=1.0, solver='liblinear', random_state=1) # uses the LR function to create the model, sets basic settings for the regularization, solver, and random state\n",
        "\n",
        "# Train the model\n",
        "logit_reg.fit(train_X, train_y)\n",
        "\n",
        "# Print the intercept and coefficients of the model\n",
        "print('Intercept:', logit_reg.intercept_)\n",
        "print('Coefficients:', logit_reg.coef_)\n"
      ],
      "metadata": {
        "colab": {
          "base_uri": "https://localhost:8080/"
        },
        "id": "kqO0CvNbQHN5",
        "outputId": "addb5581-e541-4ea6-f717-26f6c91fb2d7"
      },
      "execution_count": null,
      "outputs": [
        {
          "output_type": "stream",
          "name": "stdout",
          "text": [
            "Intercept: [0.00584248]\n",
            "Coefficients: [[ 0.09298214 -0.01413329  1.39408087  0.42526421 -0.60724549  0.29727661\n",
            "  -0.62889012 -0.02068413 -0.23279636  0.09969592  0.36545563  0.49907994\n",
            "  -0.35376809 -0.23300336  0.16226403  1.11915602 -0.15953287  0.8493678 ]]\n"
          ]
        }
      ]
    },
    {
      "cell_type": "markdown",
      "source": [
        "Regularization --> Penalty = '12'\n",
        "- This tells the model to use 'ridge regularization', a method used to penalize the model for having higher coefficients. This is done through adding a \"regularization term\" that is added to the regularization equation that serves to reduce the higher coefficients.\n",
        "\n",
        "Strength --> 'C=1.0'\n",
        "- This controls the strength of the regularization penalty specified above. With a higher value of C, a stronger penalty that is placed on the model to reduce overfitting.\n",
        "\n",
        "Solver --> 'solver='liblinear'\n",
        "- This specifies the algorithm 'liblinear' to be used for our logistic regression model.\n",
        "\n",
        "Random State --> 'random_state=1'\n",
        "- This sets a random seed for the model, using the randomness to ensure the predictability of the model to output the same results every time it's run."
      ],
      "metadata": {
        "id": "YWuuu2Ro6aRE"
      }
    },
    {
      "cell_type": "markdown",
      "source": [
        "#What Do These Coefficients Mean?\n",
        "\n",
        "The coefficients in a logistic regression model represent the strength and direction of the association between each feature and the likelihood of the target variable, severe weather. A positive coefficient means that as the feature value increases, the probability of severe weather occurring also increases, and vice versa for a negative coefficient.\n",
        "\n"
      ],
      "metadata": {
        "id": "z5wQFRF7QJaD"
      }
    },
    {
      "cell_type": "markdown",
      "source": [
        "#Check Model Performance\n",
        "\n",
        "How did the model perform on both training and testing set?\n"
      ],
      "metadata": {
        "id": "2JciBr2XQO82"
      }
    },
    {
      "cell_type": "code",
      "source": [
        "# Predictions on the training set\n",
        "train_predictions = logit_reg.predict(train_X) # uses the data from logit_reg and makes predictions off those (from our training dataset)\n",
        "\n",
        "# Predictions on the testing set\n",
        "test_predictions = logit_reg.predict(test_X) # similar to the code above, we use the data from logit.reg to see the predicted values from test_x"
      ],
      "metadata": {
        "id": "XVkBpV5eQSxg"
      },
      "execution_count": null,
      "outputs": []
    },
    {
      "cell_type": "code",
      "source": [
        "# Classification report and confusion matrix for the training set\n",
        "print(\"Training Set Evaluation:\")\n",
        "print(confusion_matrix(train_y, train_predictions))\n",
        "print(classification_report(train_y, train_predictions))"
      ],
      "metadata": {
        "colab": {
          "base_uri": "https://localhost:8080/"
        },
        "id": "A9KacKWwQZWL",
        "outputId": "35f5d79d-f15d-4bad-fb6b-befcd43436a9"
      },
      "execution_count": null,
      "outputs": [
        {
          "output_type": "stream",
          "name": "stdout",
          "text": [
            "Training Set Evaluation:\n",
            "[[333  83]\n",
            " [116 301]]\n",
            "              precision    recall  f1-score   support\n",
            "\n",
            "           0       0.74      0.80      0.77       416\n",
            "           1       0.78      0.72      0.75       417\n",
            "\n",
            "    accuracy                           0.76       833\n",
            "   macro avg       0.76      0.76      0.76       833\n",
            "weighted avg       0.76      0.76      0.76       833\n",
            "\n"
          ]
        }
      ]
    },
    {
      "cell_type": "code",
      "source": [
        "# Classification report and confusion matrix for the testing set\n",
        "print(\"Testing Set Evaluation:\")\n",
        "print(confusion_matrix(test_y, test_predictions))\n",
        "print(classification_report(test_y, test_predictions))"
      ],
      "metadata": {
        "colab": {
          "base_uri": "https://localhost:8080/"
        },
        "id": "42S-GwHBQbCG",
        "outputId": "0196027e-2e43-435d-d38f-4ff40cdb4393"
      },
      "execution_count": null,
      "outputs": [
        {
          "output_type": "stream",
          "name": "stdout",
          "text": [
            "Testing Set Evaluation:\n",
            "[[220  50]\n",
            " [ 89 197]]\n",
            "              precision    recall  f1-score   support\n",
            "\n",
            "           0       0.71      0.81      0.76       270\n",
            "           1       0.80      0.69      0.74       286\n",
            "\n",
            "    accuracy                           0.75       556\n",
            "   macro avg       0.75      0.75      0.75       556\n",
            "weighted avg       0.76      0.75      0.75       556\n",
            "\n"
          ]
        }
      ]
    },
    {
      "cell_type": "markdown",
      "source": [
        "The two sets (testing and training) perform generally well when placed against each other. The training set sees an accuracy of 75%, whereas the training set sees an accuracy of 73.3%. Ideally, both models would be more accurate when predicting values, but both are similar in terms of how accurate they are in general."
      ],
      "metadata": {
        "id": "oxwWKIOsBpwn"
      }
    },
    {
      "cell_type": "markdown",
      "source": [
        "#Feature Selection\n",
        "\n",
        "Refine the model by selecting statistically significant features based on p-values.\n",
        "\n",
        "\n"
      ],
      "metadata": {
        "id": "636RGgOCQpXE"
      }
    },
    {
      "cell_type": "code",
      "source": [
        "# Add a constant to the features for the statsmodels logistic regression\n",
        "X_with_const = sm.add_constant(X) # A constant term is added to fit the model to a line, giving it more flexibility to ascertain the relationship between dependent and independent variables.\n",
        "\n",
        "# Fit the logistic regression model using statsmodels\n",
        "logit_model = sm.Logit(y, X_with_const).fit()"
      ],
      "metadata": {
        "colab": {
          "base_uri": "https://localhost:8080/"
        },
        "id": "vMiUSqz2QxO3",
        "outputId": "74c5f2dd-e7fe-439b-9e3b-b00acdfc2b44"
      },
      "execution_count": null,
      "outputs": [
        {
          "output_type": "stream",
          "name": "stdout",
          "text": [
            "Optimization terminated successfully.\n",
            "         Current function value: 0.523098\n",
            "         Iterations 7\n"
          ]
        }
      ]
    },
    {
      "cell_type": "markdown",
      "source": [
        "#Check P-Values"
      ],
      "metadata": {
        "id": "TlMV8xrFQz55"
      }
    },
    {
      "cell_type": "code",
      "source": [
        "# Print the summary to check p-values\n",
        "print(logit_model.summary())\n"
      ],
      "metadata": {
        "colab": {
          "base_uri": "https://localhost:8080/"
        },
        "id": "RjvFqvPUQ1qq",
        "outputId": "71505596-e38b-491d-ead0-ef2f5eb26d42"
      },
      "execution_count": null,
      "outputs": [
        {
          "output_type": "stream",
          "name": "stdout",
          "text": [
            "                           Logit Regression Results                           \n",
            "==============================================================================\n",
            "Dep. Variable:         severe_weather   No. Observations:                 1389\n",
            "Model:                          Logit   Df Residuals:                     1370\n",
            "Method:                           MLE   Df Model:                           18\n",
            "Date:                Sun, 17 Mar 2024   Pseudo R-squ.:                  0.2452\n",
            "Time:                        01:51:21   Log-Likelihood:                -726.58\n",
            "converged:                       True   LL-Null:                       -962.68\n",
            "Covariance Type:            nonrobust   LLR p-value:                 7.234e-89\n",
            "=========================================================================================\n",
            "                            coef    std err          z      P>|z|      [0.025      0.975]\n",
            "-----------------------------------------------------------------------------------------\n",
            "const                     0.1911      0.271      0.705      0.481      -0.340       0.722\n",
            "month                     0.0477      0.084      0.571      0.568      -0.116       0.212\n",
            "anomaly_level            -0.0085      0.064     -0.132      0.895      -0.134       0.117\n",
            "outage_duration           1.6707      0.138     12.143      0.000       1.401       1.940\n",
            "residential               0.6616      0.186      3.561      0.000       0.297       1.026\n",
            "commercial               -0.7318      0.162     -4.518      0.000      -1.049      -0.414\n",
            "industrial                0.2142      0.102      2.091      0.037       0.013       0.415\n",
            "seasons_Spring           -0.6811      0.259     -2.632      0.008      -1.188      -0.174\n",
            "seasons_Summer           -0.0275      0.207     -0.133      0.895      -0.434       0.379\n",
            "seasons_Winter           -0.2847      0.248     -1.150      0.250      -0.770       0.200\n",
            "day_of_week_Monday        0.0423      0.236      0.179      0.858      -0.421       0.505\n",
            "day_of_week_Saturday      0.2306      0.269      0.858      0.391      -0.296       0.757\n",
            "day_of_week_Sunday        0.6143      0.271      2.268      0.023       0.084       1.145\n",
            "day_of_week_Thursday     -0.3056      0.238     -1.286      0.198      -0.771       0.160\n",
            "day_of_week_Tuesday      -0.1419      0.238     -0.597      0.551      -0.608       0.324\n",
            "day_of_week_Wednesday     0.0287      0.238      0.120      0.904      -0.439       0.496\n",
            "part_of_day_Evening       1.0641      0.190      5.589      0.000       0.691       1.437\n",
            "part_of_day_Morning      -0.0900      0.166     -0.541      0.588      -0.416       0.236\n",
            "part_of_day_Night         0.7427      0.180      4.135      0.000       0.391       1.095\n",
            "=========================================================================================\n"
          ]
        }
      ]
    },
    {
      "cell_type": "markdown",
      "source": [
        "# P-Value Interpretation"
      ],
      "metadata": {
        "id": "941BwGOXQ42k"
      }
    },
    {
      "cell_type": "markdown",
      "source": [
        "p-value < 0.05: The predictor is considered statistically significant, meaning there is strong evidence that its coefficient is different from zero. This variable has a meaningful impact on the outcome (severe weather in this case).\n",
        "\n",
        "p-value >= 0.05: The predictor is not considered statistically significant at\n",
        "the 5% significance level. This suggests that the variable may not have a strong impact on the outcome, or its effect is not reliably different from zero in this dataset."
      ],
      "metadata": {
        "id": "7eVjfISyQ7nN"
      }
    },
    {
      "cell_type": "markdown",
      "source": [
        "`outage_duration` has a p-value of 0.000, indicating it is highly significant.\n",
        "\n",
        "`residential`, `commercial`, `industrial`, `seasons_Spring`, `day_of_week_Sunday`, `part_of_day_Evening`, and `part_of_day_Night`also have p-values below 0.05, making them significant predictors."
      ],
      "metadata": {
        "id": "IPZpKzEFUJgf"
      }
    },
    {
      "cell_type": "markdown",
      "source": [
        "# Build a New Model With The Significant Features"
      ],
      "metadata": {
        "id": "UDVlw6rAS8_E"
      }
    },
    {
      "cell_type": "markdown",
      "source": [
        "While we initially set out to remove all columns with a p-value less than 10, we found that **all columns** saw z-scores less than 10. Thus, we targeted z-scores less than 10 to increase the specificity being fed to our logistic regression model in hopes for a more reliable outcome."
      ],
      "metadata": {
        "id": "oZzibqIoD4MD"
      }
    },
    {
      "cell_type": "code",
      "source": [
        "# Define a list of variables to remove based on their p-values that are greater than 0.05\n",
        "variables_to_remove = [\n",
        "    'month', 'anomaly_level', 'seasons_Summer', 'seasons_Winter',\n",
        "    'day_of_week_Monday', 'day_of_week_Saturday', 'day_of_week_Thursday',\n",
        "    'day_of_week_Tuesday', 'day_of_week_Wednesday', 'part_of_day_Morning'\n",
        "]"
      ],
      "metadata": {
        "id": "PXHDsyd-Q-Cp"
      },
      "execution_count": null,
      "outputs": []
    },
    {
      "cell_type": "code",
      "source": [
        "# Drop the variables from the features DataFrame\n",
        "X_refined = X.drop(variables_to_remove, axis=1)"
      ],
      "metadata": {
        "id": "fdoRjIbnRCqg"
      },
      "execution_count": null,
      "outputs": []
    },
    {
      "cell_type": "code",
      "source": [
        "# Split the refined dataset into training and testing sets\n",
        "train_X_refined, test_X_refined, train_y_refined, test_y_refined = train_test_split(\n",
        "    X_refined, y, test_size=0.4, random_state=1\n",
        ")\n",
        "# Similar to our training and testing sets before, we want to use this newly-refined dataframe for the same process as we did before."
      ],
      "metadata": {
        "id": "hgW1dnONRECZ"
      },
      "execution_count": null,
      "outputs": []
    },
    {
      "cell_type": "code",
      "source": [
        "# Refit the logistic regression model with the refined features\n",
        "logit_reg_refined = LogisticRegression(max_iter=1000)\n",
        "logit_reg_refined.fit(train_X_refined, train_y_refined)"
      ],
      "metadata": {
        "colab": {
          "base_uri": "https://localhost:8080/",
          "height": 75
        },
        "id": "j-u9hsVuREzS",
        "outputId": "69291310-addd-458f-89fd-2321934e5ff3"
      },
      "execution_count": null,
      "outputs": [
        {
          "output_type": "execute_result",
          "data": {
            "text/plain": [
              "LogisticRegression(max_iter=1000)"
            ],
            "text/html": [
              "<style>#sk-container-id-1 {color: black;background-color: white;}#sk-container-id-1 pre{padding: 0;}#sk-container-id-1 div.sk-toggleable {background-color: white;}#sk-container-id-1 label.sk-toggleable__label {cursor: pointer;display: block;width: 100%;margin-bottom: 0;padding: 0.3em;box-sizing: border-box;text-align: center;}#sk-container-id-1 label.sk-toggleable__label-arrow:before {content: \"▸\";float: left;margin-right: 0.25em;color: #696969;}#sk-container-id-1 label.sk-toggleable__label-arrow:hover:before {color: black;}#sk-container-id-1 div.sk-estimator:hover label.sk-toggleable__label-arrow:before {color: black;}#sk-container-id-1 div.sk-toggleable__content {max-height: 0;max-width: 0;overflow: hidden;text-align: left;background-color: #f0f8ff;}#sk-container-id-1 div.sk-toggleable__content pre {margin: 0.2em;color: black;border-radius: 0.25em;background-color: #f0f8ff;}#sk-container-id-1 input.sk-toggleable__control:checked~div.sk-toggleable__content {max-height: 200px;max-width: 100%;overflow: auto;}#sk-container-id-1 input.sk-toggleable__control:checked~label.sk-toggleable__label-arrow:before {content: \"▾\";}#sk-container-id-1 div.sk-estimator input.sk-toggleable__control:checked~label.sk-toggleable__label {background-color: #d4ebff;}#sk-container-id-1 div.sk-label input.sk-toggleable__control:checked~label.sk-toggleable__label {background-color: #d4ebff;}#sk-container-id-1 input.sk-hidden--visually {border: 0;clip: rect(1px 1px 1px 1px);clip: rect(1px, 1px, 1px, 1px);height: 1px;margin: -1px;overflow: hidden;padding: 0;position: absolute;width: 1px;}#sk-container-id-1 div.sk-estimator {font-family: monospace;background-color: #f0f8ff;border: 1px dotted black;border-radius: 0.25em;box-sizing: border-box;margin-bottom: 0.5em;}#sk-container-id-1 div.sk-estimator:hover {background-color: #d4ebff;}#sk-container-id-1 div.sk-parallel-item::after {content: \"\";width: 100%;border-bottom: 1px solid gray;flex-grow: 1;}#sk-container-id-1 div.sk-label:hover label.sk-toggleable__label {background-color: #d4ebff;}#sk-container-id-1 div.sk-serial::before {content: \"\";position: absolute;border-left: 1px solid gray;box-sizing: border-box;top: 0;bottom: 0;left: 50%;z-index: 0;}#sk-container-id-1 div.sk-serial {display: flex;flex-direction: column;align-items: center;background-color: white;padding-right: 0.2em;padding-left: 0.2em;position: relative;}#sk-container-id-1 div.sk-item {position: relative;z-index: 1;}#sk-container-id-1 div.sk-parallel {display: flex;align-items: stretch;justify-content: center;background-color: white;position: relative;}#sk-container-id-1 div.sk-item::before, #sk-container-id-1 div.sk-parallel-item::before {content: \"\";position: absolute;border-left: 1px solid gray;box-sizing: border-box;top: 0;bottom: 0;left: 50%;z-index: -1;}#sk-container-id-1 div.sk-parallel-item {display: flex;flex-direction: column;z-index: 1;position: relative;background-color: white;}#sk-container-id-1 div.sk-parallel-item:first-child::after {align-self: flex-end;width: 50%;}#sk-container-id-1 div.sk-parallel-item:last-child::after {align-self: flex-start;width: 50%;}#sk-container-id-1 div.sk-parallel-item:only-child::after {width: 0;}#sk-container-id-1 div.sk-dashed-wrapped {border: 1px dashed gray;margin: 0 0.4em 0.5em 0.4em;box-sizing: border-box;padding-bottom: 0.4em;background-color: white;}#sk-container-id-1 div.sk-label label {font-family: monospace;font-weight: bold;display: inline-block;line-height: 1.2em;}#sk-container-id-1 div.sk-label-container {text-align: center;}#sk-container-id-1 div.sk-container {/* jupyter's `normalize.less` sets `[hidden] { display: none; }` but bootstrap.min.css set `[hidden] { display: none !important; }` so we also need the `!important` here to be able to override the default hidden behavior on the sphinx rendered scikit-learn.org. See: https://github.com/scikit-learn/scikit-learn/issues/21755 */display: inline-block !important;position: relative;}#sk-container-id-1 div.sk-text-repr-fallback {display: none;}</style><div id=\"sk-container-id-1\" class=\"sk-top-container\"><div class=\"sk-text-repr-fallback\"><pre>LogisticRegression(max_iter=1000)</pre><b>In a Jupyter environment, please rerun this cell to show the HTML representation or trust the notebook. <br />On GitHub, the HTML representation is unable to render, please try loading this page with nbviewer.org.</b></div><div class=\"sk-container\" hidden><div class=\"sk-item\"><div class=\"sk-estimator sk-toggleable\"><input class=\"sk-toggleable__control sk-hidden--visually\" id=\"sk-estimator-id-1\" type=\"checkbox\" checked><label for=\"sk-estimator-id-1\" class=\"sk-toggleable__label sk-toggleable__label-arrow\">LogisticRegression</label><div class=\"sk-toggleable__content\"><pre>LogisticRegression(max_iter=1000)</pre></div></div></div></div></div>"
            ]
          },
          "metadata": {},
          "execution_count": 36
        }
      ]
    },
    {
      "cell_type": "code",
      "source": [
        "# Predictions on the refined training and testing sets\n",
        "train_predictions_refined = logit_reg_refined.predict(train_X_refined)\n",
        "test_predictions_refined = logit_reg_refined.predict(test_X_refined)"
      ],
      "metadata": {
        "id": "kA4EXJSyRGrM"
      },
      "execution_count": null,
      "outputs": []
    },
    {
      "cell_type": "code",
      "source": [
        "# Evaluate the refined model\n",
        "print(\"Refined Model Evaluation:\")\n",
        "print(\"Training Set:\")\n",
        "print(confusion_matrix(train_y_refined, train_predictions_refined))\n",
        "print(classification_report(train_y_refined, train_predictions_refined))\n",
        "print(\"Testing Set:\")\n",
        "print(confusion_matrix(test_y_refined, test_predictions_refined))\n",
        "print(classification_report(test_y_refined, test_predictions_refined))"
      ],
      "metadata": {
        "colab": {
          "base_uri": "https://localhost:8080/"
        },
        "id": "_IQR0WGPRKgj",
        "outputId": "b8d17327-4325-419c-81e2-b7c9f7349873"
      },
      "execution_count": null,
      "outputs": [
        {
          "output_type": "stream",
          "name": "stdout",
          "text": [
            "Refined Model Evaluation:\n",
            "Training Set:\n",
            "[[334  82]\n",
            " [122 295]]\n",
            "              precision    recall  f1-score   support\n",
            "\n",
            "           0       0.73      0.80      0.77       416\n",
            "           1       0.78      0.71      0.74       417\n",
            "\n",
            "    accuracy                           0.76       833\n",
            "   macro avg       0.76      0.76      0.75       833\n",
            "weighted avg       0.76      0.76      0.75       833\n",
            "\n",
            "Testing Set:\n",
            "[[228  42]\n",
            " [ 90 196]]\n",
            "              precision    recall  f1-score   support\n",
            "\n",
            "           0       0.72      0.84      0.78       270\n",
            "           1       0.82      0.69      0.75       286\n",
            "\n",
            "    accuracy                           0.76       556\n",
            "   macro avg       0.77      0.76      0.76       556\n",
            "weighted avg       0.77      0.76      0.76       556\n",
            "\n"
          ]
        }
      ]
    },
    {
      "cell_type": "markdown",
      "source": [
        "#Interpret the metrics\n",
        "\n",
        "* Accuracy: The model is correct about 76% of the time in predicting whether a severe weather event will occur.\n",
        "\n",
        "* Precision: The model is more precise (around 78-82%) in predicting severe weather events compared to non-severe events (around 72-73%).\n",
        "\n",
        "* Recall: The model is better at identifying non-severe weather events (80-84%) than severe weather events (69-71%).\n",
        "\n",
        "* F1-score: The model has a good balance between precision and recall, with scores around 0.74-0.78.\n",
        "\n",
        "The model performs well overall, with a slight advantage in identifying non-severe weather events\n",
        "\n"
      ],
      "metadata": {
        "id": "GlqZRVHmTpwN"
      }
    },
    {
      "cell_type": "markdown",
      "source": [
        "#Visualizing the Coefficients of the Refined Model\n",
        "\n",
        "Now that we have a refined model that focuses in on **statistically significant** values, we can see the impact of each of those columns in the grand scheme of our model. This can show whether or not the predictors we chose have an important impact on the outcome of our model's predictions."
      ],
      "metadata": {
        "id": "s6qzGI5yRMZL"
      }
    },
    {
      "cell_type": "code",
      "source": [
        "#Get the coefficients from the logistic regression model\n",
        "coefficients = logit_reg_refined.coef_[0]\n"
      ],
      "metadata": {
        "id": "qGzg2861RSNF"
      },
      "execution_count": null,
      "outputs": []
    },
    {
      "cell_type": "code",
      "source": [
        "# Create a DataFrame to store the feature names and their corresponding coefficients\n",
        "coef_df = pd.DataFrame({'Feature': X_refined.columns, 'Coefficient': coefficients})\n",
        "\n",
        "# Sort the DataFrame by the absolute values of the coefficients in descending order\n",
        "sorted_coef_df = coef_df.sort_values(by='Coefficient', key=abs, ascending=False)"
      ],
      "metadata": {
        "id": "N3Nm-R80RWXP"
      },
      "execution_count": null,
      "outputs": []
    },
    {
      "cell_type": "code",
      "source": [
        "# Creating a color map based on the coefficient values\n",
        "colors = [plt.cm.Blues(np.abs(val) / max(np.abs(coefficients))) for val in sorted_coef_df['Coefficient']]\n",
        "\n",
        "# Plot the coefficients as a bar chart\n",
        "plt.figure(figsize=(10, 8))\n",
        "plt.barh(sorted_coef_df['Feature'], sorted_coef_df['Coefficient'], color=colors)\n",
        "plt.xlabel('Coefficient Value')\n",
        "plt.title('Coefficients of the Refined Regression Model')\n",
        "plt.gca().invert_yaxis()  # Invert the y-axis to have the largest coefficient on top\n",
        "plt.show()"
      ],
      "metadata": {
        "colab": {
          "base_uri": "https://localhost:8080/",
          "height": 718
        },
        "id": "7N0Zx-0WRZyQ",
        "outputId": "21c46652-17db-43aa-f363-022e2c49e910"
      },
      "execution_count": null,
      "outputs": [
        {
          "output_type": "display_data",
          "data": {
            "text/plain": [
              "<Figure size 1000x800 with 1 Axes>"
            ],
            "image/png": "[encoded data removed]"
          },
          "metadata": {}
        }
      ]
    },
    {
      "cell_type": "markdown",
      "source": [
        "The chart helps in understanding which factors are considered more or less important by the model in predicting severe weather events"
      ],
      "metadata": {
        "id": "Sqnl7YeDWAM4"
      }
    },
    {
      "cell_type": "markdown",
      "source": [
        "#Intreperation of this Graph:\n",
        "\n",
        "`Outage Duration`: The longest bar going to the right shows that longer outage durations are strongly associated with an increased likelihood of severe weather. This is the most influential predictor in the model.\n",
        "\n",
        "`Part of Day (Evening and Night)`: These bars also extend to the right, indicating that evening and night times have a positive relationship with severe weather occurrences compared to the reference part of the day (likely morning or afternoon).\n",
        "\n",
        "`Season (Spring)`: The bar for Spring extends to the left, suggesting that the spring season is associated with a decreased likelihood of severe weather compared to the reference season (probably Autumn).\n",
        "\n",
        "`Commercial`: The negative coefficient for commercial indicates that higher values in this predictor are associated with a lower likelihood of severe weather, compared to residential or industrial sectors.\n",
        "\n",
        "`Day of Week (Sunday)`: Sunday has a positive coefficient, but less influential than outage duration, suggesting there is a higher likelihood of severe weather occurring on Sundays compared to the reference day of the week.\n",
        "\n"
      ],
      "metadata": {
        "id": "HoaRutEeRcK1"
      }
    },
    {
      "cell_type": "markdown",
      "source": [
        "#Gains Chart and Lift Chart for the Refined Model\n"
      ],
      "metadata": {
        "id": "yk-pwkrWRhcV"
      }
    },
    {
      "cell_type": "code",
      "source": [
        "# To create the gains chart and lift chart, we need to use the dmba package. Need to install it using pip:\n",
        "!pip install dmba\n"
      ],
      "metadata": {
        "colab": {
          "base_uri": "https://localhost:8080/"
        },
        "id": "ECARLp3_Rrn6",
        "outputId": "db88b48a-5260-4576-97b3-afd6c900dea6"
      },
      "execution_count": null,
      "outputs": [
        {
          "output_type": "stream",
          "name": "stdout",
          "text": [
            "Collecting dmba\n",
            "  Downloading dmba-0.2.4-py3-none-any.whl (11.8 MB)\n",
            "\u001b[2K     \u001b[90m━━━━━━━━━━━━━━━━━━━━━━━━━━━━━━━━━━━━━━━━\u001b[0m \u001b[32m11.8/11.8 MB\u001b[0m \u001b[31m32.5 MB/s\u001b[0m eta \u001b[36m0:00:00\u001b[0m\n",
            "\u001b[?25hRequirement already satisfied: graphviz in /usr/local/lib/python3.10/dist-packages (from dmba) (0.20.1)\n",
            "Requirement already satisfied: matplotlib in /usr/local/lib/python3.10/dist-packages (from dmba) (3.7.1)\n",
            "Requirement already satisfied: numpy in /usr/local/lib/python3.10/dist-packages (from dmba) (1.25.2)\n",
            "Requirement already satisfied: pandas in /usr/local/lib/python3.10/dist-packages (from dmba) (1.5.3)\n",
            "Requirement already satisfied: scikit-learn in /usr/local/lib/python3.10/dist-packages (from dmba) (1.2.2)\n",
            "Requirement already satisfied: scipy in /usr/local/lib/python3.10/dist-packages (from dmba) (1.11.4)\n",
            "Requirement already satisfied: contourpy>=1.0.1 in /usr/local/lib/python3.10/dist-packages (from matplotlib->dmba) (1.2.0)\n",
            "Requirement already satisfied: cycler>=0.10 in /usr/local/lib/python3.10/dist-packages (from matplotlib->dmba) (0.12.1)\n",
            "Requirement already satisfied: fonttools>=4.22.0 in /usr/local/lib/python3.10/dist-packages (from matplotlib->dmba) (4.49.0)\n",
            "Requirement already satisfied: kiwisolver>=1.0.1 in /usr/local/lib/python3.10/dist-packages (from matplotlib->dmba) (1.4.5)\n",
            "Requirement already satisfied: packaging>=20.0 in /usr/local/lib/python3.10/dist-packages (from matplotlib->dmba) (24.0)\n",
            "Requirement already satisfied: pillow>=6.2.0 in /usr/local/lib/python3.10/dist-packages (from matplotlib->dmba) (9.4.0)\n",
            "Requirement already satisfied: pyparsing>=2.3.1 in /usr/local/lib/python3.10/dist-packages (from matplotlib->dmba) (3.1.2)\n",
            "Requirement already satisfied: python-dateutil>=2.7 in /usr/local/lib/python3.10/dist-packages (from matplotlib->dmba) (2.8.2)\n",
            "Requirement already satisfied: pytz>=2020.1 in /usr/local/lib/python3.10/dist-packages (from pandas->dmba) (2023.4)\n",
            "Requirement already satisfied: joblib>=1.1.1 in /usr/local/lib/python3.10/dist-packages (from scikit-learn->dmba) (1.3.2)\n",
            "Requirement already satisfied: threadpoolctl>=2.0.0 in /usr/local/lib/python3.10/dist-packages (from scikit-learn->dmba) (3.3.0)\n",
            "Requirement already satisfied: six>=1.5 in /usr/local/lib/python3.10/dist-packages (from python-dateutil>=2.7->matplotlib->dmba) (1.16.0)\n",
            "Installing collected packages: dmba\n",
            "Successfully installed dmba-0.2.4\n"
          ]
        }
      ]
    },
    {
      "cell_type": "code",
      "source": [
        "from dmba import gainsChart, liftChart\n"
      ],
      "metadata": {
        "colab": {
          "base_uri": "https://localhost:8080/"
        },
        "id": "qWV3rKsvRs4O",
        "outputId": "cf8db35a-aa14-44ad-c3b0-378a3e5fa9df"
      },
      "execution_count": null,
      "outputs": [
        {
          "output_type": "stream",
          "name": "stdout",
          "text": [
            "Colab environment detected.\n"
          ]
        }
      ]
    },
    {
      "cell_type": "code",
      "source": [
        "# Compute the predicted probabilities for the positive class in the testing set\n",
        "test_probabilities_refined = logit_reg_refined.predict_proba(test_X_refined)[:, 1]"
      ],
      "metadata": {
        "id": "zNzQKzE7Rvnv"
      },
      "execution_count": null,
      "outputs": []
    },
    {
      "cell_type": "code",
      "source": [
        "# Create a DataFrame for gains and lift charts\n",
        "refined_results_df = pd.DataFrame({\n",
        "    'actual': test_y_refined,\n",
        "    'p(1)': test_probabilities_refined\n",
        "})"
      ],
      "metadata": {
        "id": "10HS05hvSGeI"
      },
      "execution_count": null,
      "outputs": []
    },
    {
      "cell_type": "code",
      "source": [
        "# Sort the DataFrame by the probability of the positive class\n",
        "refined_results_df = refined_results_df.sort_values(by='p(1)', ascending=False)\n",
        "\n",
        "# Plot gains and lift charts\n",
        "fig, axes = plt.subplots(nrows=1, ncols=2, figsize=(10, 4))\n",
        "gainsChart(refined_results_df.actual, ax=axes[0])\n",
        "liftChart(refined_results_df['p(1)'], title=False, ax=axes[1])\n",
        "plt.tight_layout()\n",
        "plt.show()"
      ],
      "metadata": {
        "colab": {
          "base_uri": "https://localhost:8080/",
          "height": 406
        },
        "id": "PdoyIHBuSKOf",
        "outputId": "c884a46f-80ee-49fc-acae-a16dc712859b"
      },
      "execution_count": null,
      "outputs": [
        {
          "output_type": "display_data",
          "data": {
            "text/plain": [
              "<Figure size 1000x400 with 2 Axes>"
            ],
            "image/png": "[encoded data removed]"
          },
          "metadata": {}
        }
      ]
    },
    {
      "cell_type": "markdown",
      "source": [
        "#What does the Gains Chart Show us?\n",
        "\n",
        "* The Gains Chart compares the model against a random selection strategy.\n",
        "\n",
        "* The x-axis represents the number of records, and the y-axis shows the cumulative gains (the number of positive outcomes).\n",
        "\n",
        "* The blue line represents the model, and the dashed line represents random chance.\n",
        "\n",
        "* If the blue line is above the dashed line, it indicates that the model is doing better than random chance in identifying positive outcomes.\n",
        "\n",
        "\n",
        "\n",
        "\n",
        "#What does the lift chart show us?\n",
        "\n",
        "\n",
        "* The Lift Chart shows how much better the model is at predicting positive outcomes compared to a random guess, at various percentiles of the data.\n",
        "\n",
        "* The x-axis represents percentiles of the data, and the y-axis indicates the lift, which is the ratio of the results obtained with the model to the results from a random guess.\n",
        "\n",
        "* Bars above 1 indicate that the model is doing better than random at that percentile.\n",
        "\n",
        "* The first few bars are higher, showing that the model has good predictive power for the most likely positive outcomes. As we move to lower percentiles, the lift decreases, indicating less improvement over random guessing.\n"
      ],
      "metadata": {
        "id": "M5aBNy-nSNXo"
      }
    },
    {
      "cell_type": "markdown",
      "source": [
        "#Our conclusion"
      ],
      "metadata": {
        "id": "dbb1Z0seiNJn"
      }
    },
    {
      "cell_type": "markdown",
      "source": [
        "Overall,  our model does a reasonable job at predicting the occurances of severe weather. In both training and testing sets, we see a similar performance between the two, as both return accuracy numbers within 2% of each other. The model's performance is also reaffirmed through our gains and lift charts. In our gains chart, we see the model's performnace placed against that of random chamge; the model outperformns simple guessing, reliably predicting each occurance of severe weather more and more as the number of records increases. In our lift chart, we see that the the model does a good job at predicting positive outcomes in the tenth percentile."
      ],
      "metadata": {
        "id": "nya1iToPiQQH"
      }
    }
  ]
}